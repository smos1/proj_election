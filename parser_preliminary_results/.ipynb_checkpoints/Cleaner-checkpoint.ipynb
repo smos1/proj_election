{
 "cells": [
  {
   "cell_type": "code",
   "execution_count": 1,
   "metadata": {},
   "outputs": [],
   "source": [
    "import pandas as pd\n",
    "import pickle"
   ]
  },
  {
   "cell_type": "code",
   "execution_count": 2,
   "metadata": {},
   "outputs": [],
   "source": [
    "import os"
   ]
  },
  {
   "cell_type": "code",
   "execution_count": 3,
   "metadata": {},
   "outputs": [],
   "source": [
    "def boo(x):\n",
    "    with(open('./dicts/'+x, 'rb')) as f:\n",
    "        return pickle.load(f)"
   ]
  },
  {
   "cell_type": "code",
   "execution_count": 4,
   "metadata": {},
   "outputs": [],
   "source": [
    "ld=[boo(i) for i in os.listdir('./dicts') if os.stat('./dicts/'+i).st_size>100]"
   ]
  },
  {
   "cell_type": "code",
   "execution_count": 5,
   "metadata": {
    "scrolled": false
   },
   "outputs": [],
   "source": [
    "df=pd.read_csv('start_page_2010.csv')"
   ]
  },
  {
   "cell_type": "code",
   "execution_count": 6,
   "metadata": {},
   "outputs": [],
   "source": [
    "ids=df['link'].to_dict()"
   ]
  },
  {
   "cell_type": "code",
   "execution_count": 7,
   "metadata": {
    "scrolled": true
   },
   "outputs": [],
   "source": [
    "def foo(x):\n",
    "    paths=[]\n",
    "    values=[] \n",
    "    for i,j in x.items():\n",
    "        if isinstance(j, list):\n",
    "            path,value=i,j\n",
    "        else:\n",
    "            path, value=foo(j)\n",
    "            path=[i]+path\n",
    "        paths.append(path)\n",
    "        values.append(value)\n",
    "    return paths, values"
   ]
  },
  {
   "cell_type": "code",
   "execution_count": 8,
   "metadata": {},
   "outputs": [],
   "source": [
    "def doo(qqq):\n",
    "    x,y=foo(qqq)\n",
    "    x,y=pd.DataFrame(x),pd.DataFrame(y)\n",
    "\n",
    "    y.columns=range(1,y.columns.shape[0]+1)\n",
    "\n",
    "    d2=y.lookup(y.index.tolist()*y.shape[1], [j for i in y.columns for j in [i]*y.shape[0]])\n",
    "    d1=x.lookup(x.index.tolist()*y.shape[1], [j for i in y.columns for j in [i]*x.shape[0]])\n",
    "    d0=x.lookup(x.index.tolist()*y.shape[1], [j for i in y.columns for j in [0]*x.shape[0]])\n",
    "\n",
    "    data=pd.DataFrame([d0,d1,d2]).T.set_index(0).dropna().explode(2).explode(2).reset_index()\n",
    "    #data[1]=data[1].map(lambda x: list(set(x)) if isinstance(x, list) else x)\n",
    "    \n",
    "    return data"
   ]
  },
  {
   "cell_type": "code",
   "execution_count": 9,
   "metadata": {},
   "outputs": [],
   "source": [
    "output=pd.concat(list(map(doo, ld[:-1])))"
   ]
  },
  {
   "cell_type": "code",
   "execution_count": 13,
   "metadata": {},
   "outputs": [],
   "source": [
    "output.columns=['link','location','link_to_UIK']"
   ]
  },
  {
   "cell_type": "code",
   "execution_count": 24,
   "metadata": {},
   "outputs": [
    {
     "data": {
      "text/plain": [
       "(6846, 3)"
      ]
     },
     "execution_count": 24,
     "metadata": {},
     "output_type": "execute_result"
    }
   ],
   "source": [
    "output.shape"
   ]
  },
  {
   "cell_type": "code",
   "execution_count": 25,
   "metadata": {},
   "outputs": [],
   "source": [
    "merged_df=df.merge(output, on='link')"
   ]
  },
  {
   "cell_type": "code",
   "execution_count": 26,
   "metadata": {},
   "outputs": [],
   "source": [
    "merged_df.to_csv('preliminary_results.csv', index=False)"
   ]
  },
  {
   "cell_type": "code",
   "execution_count": 32,
   "metadata": {},
   "outputs": [
    {
     "name": "stdout",
     "output_type": "stream",
     "text": [
      "http://www.yakut.vybory.izbirkom.ru/region/yakut?action=show&root=144027001&tvd=4144027114850&vrn=414402788176&prver=0&pronetvd=null&region=14&sub_region=14&type=0&vibid=4144027114850\n"
     ]
    }
   ],
   "source": [
    "print(merged_df.sample().link_to_UIK.iloc[0])"
   ]
  }
 ],
 "metadata": {
  "kernelspec": {
   "display_name": "Python 3",
   "language": "python",
   "name": "python3"
  },
  "language_info": {
   "codemirror_mode": {
    "name": "ipython",
    "version": 3
   },
   "file_extension": ".py",
   "mimetype": "text/x-python",
   "name": "python",
   "nbconvert_exporter": "python",
   "pygments_lexer": "ipython3",
   "version": "3.7.3"
  },
  "varInspector": {
   "cols": {
    "lenName": 16,
    "lenType": 16,
    "lenVar": 40
   },
   "kernels_config": {
    "python": {
     "delete_cmd_postfix": "",
     "delete_cmd_prefix": "del ",
     "library": "var_list.py",
     "varRefreshCmd": "print(var_dic_list())"
    },
    "r": {
     "delete_cmd_postfix": ") ",
     "delete_cmd_prefix": "rm(",
     "library": "var_list.r",
     "varRefreshCmd": "cat(var_dic_list()) "
    }
   },
   "types_to_exclude": [
    "module",
    "function",
    "builtin_function_or_method",
    "instance",
    "_Feature"
   ],
   "window_display": false
  }
 },
 "nbformat": 4,
 "nbformat_minor": 2
}
