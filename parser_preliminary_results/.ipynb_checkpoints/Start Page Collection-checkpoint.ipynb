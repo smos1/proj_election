{
 "cells": [
  {
   "cell_type": "code",
   "execution_count": 1,
   "metadata": {},
   "outputs": [],
   "source": [
    "import requests as r\n",
    "from bs4 import BeautifulSoup\n",
    "import pandas as pd\n",
    "import os\n",
    "from PIL import Image\n",
    "from selenium import webdriver\n",
    "import time\n",
    "import pytesseract\n",
    "from typing import BinaryIO, List, Dict\n",
    "from bs4 import BeautifulSoup\n",
    "from matplotlib.pyplot import imshow\n",
    "import numpy as np"
   ]
  },
  {
   "cell_type": "code",
   "execution_count": 2,
   "metadata": {},
   "outputs": [],
   "source": [
    "url=\"http://www.vybory.izbirkom.ru/region/izbirkom\""
   ]
  },
  {
   "cell_type": "code",
   "execution_count": 3,
   "metadata": {},
   "outputs": [],
   "source": [
    "headers=\"\"\"Accept: text/html,application/xhtml+xml,application/xml;q=0.9,image/avif,image/webp,image/apng,*/*;q=0.8,application/signed-exchange;v=b3;q=0.9\n",
    "Accept-Encoding: gzip, deflate\n",
    "Accept-Language: en-US,en;q=0.9,ru;q=0.8,fr;q=0.7\n",
    "Cache-Control: no-cache\n",
    "Connection: keep-alive\n",
    "Content-Length: 152\n",
    "Content-Type: application/x-www-form-urlencoded\n",
    "Cookie: __utmc=252441553; __utmz=252441553.1607361652.1.1.utmcsr=google|utmccn=(organic)|utmcmd=organic|utmctr=(not%20provided); izbSession=fa90d86f-6f89-4877-b62d-aadc79fe48f9; __utma=252441553.205305655.1607361652.1607361652.1607636441.2; __utmt=1; JSESSIONID=e9d818ee7ceb67a6f1733013b352; __utmb=252441553.2.10.1607636441\n",
    "DNT: 1\n",
    "Host: www.vybory.izbirkom.ru\n",
    "Origin: http://www.vybory.izbirkom.ru\n",
    "Pragma: no-cache\n",
    "Referer: http://www.vybory.izbirkom.ru/region/izbirkom\n",
    "Upgrade-Insecure-Requests: 1\n",
    "User-Agent: Mozilla/5.0 (Windows NT 10.0; Win64; x64) AppleWebKit/537.36 (KHTML, like Gecko) Chrome/85.0.4183.121 Safari/537.36 OPR/71.0.3770.441\"\"\""
   ]
  },
  {
   "cell_type": "code",
   "execution_count": 4,
   "metadata": {},
   "outputs": [],
   "source": [
    "headers=dict(i.split(': ') for i in headers.split(\"\\n\"))"
   ]
  },
  {
   "cell_type": "code",
   "execution_count": 5,
   "metadata": {},
   "outputs": [],
   "source": [
    "data=\"\"\"start_date=01.02.2010&urovproved=all&vidvibref=all&vibtype=all&end_date=30.04.2021&sxemavib=all&action=search_by_calendar&region=0&ok=%C8%F1%EA%E0%F2%FC\"\"\""
   ]
  },
  {
   "cell_type": "code",
   "execution_count": 6,
   "metadata": {},
   "outputs": [],
   "source": [
    "resp=r.post(url, headers=headers, data=data)"
   ]
  },
  {
   "cell_type": "code",
   "execution_count": 7,
   "metadata": {},
   "outputs": [],
   "source": [
    "soup=BeautifulSoup(resp.content)"
   ]
  },
  {
   "cell_type": "code",
   "execution_count": 8,
   "metadata": {},
   "outputs": [
    {
     "name": "stdout",
     "output_type": "stream",
     "text": [
      "Total number of entries is: 93017\n"
     ]
    }
   ],
   "source": [
    "total_number_of_entries=int(soup.select(\"form+table nobr\")[0].text.split(\": \")[1])\n",
    "print(\"Total number of entries is:\",total_number_of_entries)"
   ]
  },
  {
   "cell_type": "code",
   "execution_count": 9,
   "metadata": {},
   "outputs": [],
   "source": [
    "table=soup.select(\"form+table+table\")[0]"
   ]
  },
  {
   "cell_type": "code",
   "execution_count": 10,
   "metadata": {},
   "outputs": [],
   "source": [
    "dates=[i for i,j in enumerate(table.select('tr')) if j.has_attr(\"bgcolor\")]"
   ]
  },
  {
   "cell_type": "code",
   "execution_count": 11,
   "metadata": {},
   "outputs": [],
   "source": [
    "dct={}\n",
    "for i,j in enumerate(table.select('tr')):\n",
    "    #if current line is a date, create a new entry in dct\n",
    "    if i in dates: \n",
    "        current=j.text.strip()\n",
    "        dct[current]=[]\n",
    "    else: #add the data into current entry\n",
    "        dct[current].append(j)"
   ]
  },
  {
   "cell_type": "code",
   "execution_count": 12,
   "metadata": {
    "code_folding": [
     13
    ]
   },
   "outputs": [],
   "source": [
    "import re\n",
    "def boo(x):\n",
    "    ddct=[]\n",
    "    for i in x:\n",
    "        if i.select('nobr'): \n",
    "            location=i.select('nobr b')[0].text.strip()\n",
    "        \n",
    "        loc2,topic=i.select('td')\n",
    "        loc2=loc2.text.split(location)[-1].strip()\n",
    "        \n",
    "        text=topic.text\n",
    "        link=topic.select('a')[0].get('href')\n",
    "        \n",
    "        ddct.append({\n",
    "            'loc1':location, \n",
    "            'loc2':loc2,\n",
    "            'text':text,\n",
    "            'link':link,\n",
    "            'vrn':re.findall('vrn=(.*?)&',link)[0],\n",
    "            'region':re.findall('region=(.*?)&',link)[0],\n",
    "            'prver':re.findall('prver=(.*?)&',link)[0],\n",
    "            'pronetvd':re.findall('pronetvd=(.*)',link)[0]\n",
    "        })\n",
    "\n",
    "    return ddct\n"
   ]
  },
  {
   "cell_type": "code",
   "execution_count": 7,
   "metadata": {},
   "outputs": [],
   "source": [
    "def get_dataframe_from_soup1(x):\n",
    "    return pd.DataFrame(boo(x[1])).assign(date=x[0])\n",
    "    "
   ]
  },
  {
   "cell_type": "code",
   "execution_count": 16,
   "metadata": {},
   "outputs": [],
   "source": [
    "pp=list(map(get_dataframe_from_soup1, dct.items()))"
   ]
  },
  {
   "cell_type": "code",
   "execution_count": 17,
   "metadata": {},
   "outputs": [],
   "source": [
    "df=pd.concat(pp, ignore_index=True)"
   ]
  },
  {
   "cell_type": "code",
   "execution_count": 18,
   "metadata": {},
   "outputs": [],
   "source": [
    "df[['vrn','region','prver']]=df[['vrn','region','prver']].astype(float)"
   ]
  },
  {
   "cell_type": "code",
   "execution_count": 19,
   "metadata": {},
   "outputs": [],
   "source": [
    "months={\n",
    "    'февраля':2, \n",
    "    'марта':3, \n",
    "    'апреля':4,\n",
    "    'мая':5,\n",
    "    'июня':6,\n",
    "    'июля':7,\n",
    "    'августа':8,\n",
    "    'сентября':9,\n",
    "    'октября':10,\n",
    "    'ноября':11, \n",
    "    'декабря':12, \n",
    "    'января':1}"
   ]
  },
  {
   "cell_type": "code",
   "execution_count": 20,
   "metadata": {},
   "outputs": [],
   "source": [
    "df[['day','month','year']]=df.date.str.split(expand=True).loc[:,:2]"
   ]
  },
  {
   "cell_type": "code",
   "execution_count": 21,
   "metadata": {},
   "outputs": [],
   "source": [
    "df.month=df.month.map(months)"
   ]
  },
  {
   "cell_type": "code",
   "execution_count": 22,
   "metadata": {},
   "outputs": [],
   "source": [
    "df.to_csv('start_page_2010.csv', index=False)"
   ]
  },
  {
   "cell_type": "markdown",
   "metadata": {},
   "source": [
    "# Use the file with all the main pages"
   ]
  },
  {
   "cell_type": "code",
   "execution_count": 10,
   "metadata": {},
   "outputs": [],
   "source": [
    "df=pd.read_csv('start_page_2010.csv')"
   ]
  },
  {
   "cell_type": "code",
   "execution_count": 11,
   "metadata": {},
   "outputs": [
    {
     "data": {
      "text/html": [
       "<div>\n",
       "<style scoped>\n",
       "    .dataframe tbody tr th:only-of-type {\n",
       "        vertical-align: middle;\n",
       "    }\n",
       "\n",
       "    .dataframe tbody tr th {\n",
       "        vertical-align: top;\n",
       "    }\n",
       "\n",
       "    .dataframe thead th {\n",
       "        text-align: right;\n",
       "    }\n",
       "</style>\n",
       "<table border=\"1\" class=\"dataframe\">\n",
       "  <thead>\n",
       "    <tr style=\"text-align: right;\">\n",
       "      <th></th>\n",
       "      <th>REGION_LVL_1_NAME</th>\n",
       "      <th>REGION_LVL_1_URL</th>\n",
       "      <th>REGION_LVL_0_NAME</th>\n",
       "      <th>REGION_LVL_0_URL</th>\n",
       "    </tr>\n",
       "  </thead>\n",
       "  <tbody>\n",
       "    <tr>\n",
       "      <th>0</th>\n",
       "      <td>1 Адыгейская</td>\n",
       "      <td>http://www.vybory.izbirkom.ru/region/izbirkom?...</td>\n",
       "      <td>Республика Адыгея (Адыгея)</td>\n",
       "      <td>http://www.vybory.izbirkom.ru/region/izbirkom?...</td>\n",
       "    </tr>\n",
       "    <tr>\n",
       "      <th>1</th>\n",
       "      <td>2 Гиагинская</td>\n",
       "      <td>http://www.vybory.izbirkom.ru/region/izbirkom?...</td>\n",
       "      <td>Республика Адыгея (Адыгея)</td>\n",
       "      <td>http://www.vybory.izbirkom.ru/region/izbirkom?...</td>\n",
       "    </tr>\n",
       "    <tr>\n",
       "      <th>2</th>\n",
       "      <td>3 Кошехабльская</td>\n",
       "      <td>http://www.vybory.izbirkom.ru/region/izbirkom?...</td>\n",
       "      <td>Республика Адыгея (Адыгея)</td>\n",
       "      <td>http://www.vybory.izbirkom.ru/region/izbirkom?...</td>\n",
       "    </tr>\n",
       "    <tr>\n",
       "      <th>3</th>\n",
       "      <td>4 Красногвардейская</td>\n",
       "      <td>http://www.vybory.izbirkom.ru/region/izbirkom?...</td>\n",
       "      <td>Республика Адыгея (Адыгея)</td>\n",
       "      <td>http://www.vybory.izbirkom.ru/region/izbirkom?...</td>\n",
       "    </tr>\n",
       "    <tr>\n",
       "      <th>4</th>\n",
       "      <td>5 Майкопская районная</td>\n",
       "      <td>http://www.vybory.izbirkom.ru/region/izbirkom?...</td>\n",
       "      <td>Республика Адыгея (Адыгея)</td>\n",
       "      <td>http://www.vybory.izbirkom.ru/region/izbirkom?...</td>\n",
       "    </tr>\n",
       "  </tbody>\n",
       "</table>\n",
       "</div>"
      ],
      "text/plain": [
       "        REGION_LVL_1_NAME                                   REGION_LVL_1_URL  \\\n",
       "0            1 Адыгейская  http://www.vybory.izbirkom.ru/region/izbirkom?...   \n",
       "1            2 Гиагинская  http://www.vybory.izbirkom.ru/region/izbirkom?...   \n",
       "2         3 Кошехабльская  http://www.vybory.izbirkom.ru/region/izbirkom?...   \n",
       "3     4 Красногвардейская  http://www.vybory.izbirkom.ru/region/izbirkom?...   \n",
       "4  5 Майкопская районная   http://www.vybory.izbirkom.ru/region/izbirkom?...   \n",
       "\n",
       "             REGION_LVL_0_NAME  \\\n",
       "0   Республика Адыгея (Адыгея)   \n",
       "1   Республика Адыгея (Адыгея)   \n",
       "2   Республика Адыгея (Адыгея)   \n",
       "3   Республика Адыгея (Адыгея)   \n",
       "4   Республика Адыгея (Адыгея)   \n",
       "\n",
       "                                    REGION_LVL_0_URL  \n",
       "0  http://www.vybory.izbirkom.ru/region/izbirkom?...  \n",
       "1  http://www.vybory.izbirkom.ru/region/izbirkom?...  \n",
       "2  http://www.vybory.izbirkom.ru/region/izbirkom?...  \n",
       "3  http://www.vybory.izbirkom.ru/region/izbirkom?...  \n",
       "4  http://www.vybory.izbirkom.ru/region/izbirkom?...  "
      ]
     },
     "execution_count": 11,
     "metadata": {},
     "output_type": "execute_result"
    }
   ],
   "source": [
    "df.head()"
   ]
  }
 ],
 "metadata": {
  "kernelspec": {
   "display_name": "Python 3",
   "language": "python",
   "name": "python3"
  },
  "language_info": {
   "codemirror_mode": {
    "name": "ipython",
    "version": 3
   },
   "file_extension": ".py",
   "mimetype": "text/x-python",
   "name": "python",
   "nbconvert_exporter": "python",
   "pygments_lexer": "ipython3",
   "version": "3.7.3"
  },
  "varInspector": {
   "cols": {
    "lenName": 16,
    "lenType": 16,
    "lenVar": 40
   },
   "kernels_config": {
    "python": {
     "delete_cmd_postfix": "",
     "delete_cmd_prefix": "del ",
     "library": "var_list.py",
     "varRefreshCmd": "print(var_dic_list())"
    },
    "r": {
     "delete_cmd_postfix": ") ",
     "delete_cmd_prefix": "rm(",
     "library": "var_list.r",
     "varRefreshCmd": "cat(var_dic_list()) "
    }
   },
   "types_to_exclude": [
    "module",
    "function",
    "builtin_function_or_method",
    "instance",
    "_Feature"
   ],
   "window_display": false
  }
 },
 "nbformat": 4,
 "nbformat_minor": 2
}
